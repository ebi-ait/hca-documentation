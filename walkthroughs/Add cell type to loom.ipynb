{
 "cells": [
  {
   "cell_type": "markdown",
   "metadata": {},
   "source": [
    "## Work out how to add cell type annotation to loom file\n",
    "\n",
    "Here I will figure out the commands needed to add ClusterID and cell type annotations to a loom file using loompy. This will contribute towards eventually creating a script to automate this process.\n",
    "\n",
    "I will start with the Gary Bader dataset as we have cell type annotations and their own cluster IDs that I can work with.\n",
    "\n",
    "The first thing I want to do is work out how we can match up HCA cell IDs with the cell ids used in the paper"
   ]
  },
  {
   "cell_type": "code",
   "execution_count": 85,
   "metadata": {},
   "outputs": [],
   "source": [
    "import loompy\n",
    "import numpy as np\n",
    "import pprint\n",
    "import pandas as pd\n",
    "import json\n",
    "from collections import Counter"
   ]
  },
  {
   "cell_type": "code",
   "execution_count": 6,
   "metadata": {},
   "outputs": [],
   "source": [
    "bader_loom=\"SingleCellLiverLandscape.loom\""
   ]
  },
  {
   "cell_type": "markdown",
   "metadata": {},
   "source": [
    "now we take a look at how the Bader lab identify their cells"
   ]
  },
  {
   "cell_type": "code",
   "execution_count": 27,
   "metadata": {},
   "outputs": [],
   "source": [
    "bader_celltypes=pd.read_csv(\"bader_cell_type_cell_id.csv\")"
   ]
  },
  {
   "cell_type": "code",
   "execution_count": 28,
   "metadata": {},
   "outputs": [
    {
     "name": "stdout",
     "output_type": "stream",
     "text": [
      "                    cell_id donor_id           barcode  cluster_id  \\\n",
      "1  P1TLH_AAACCTGTCCTCATTA_1    P1TLH  AAACCTGTCCTCATTA          17   \n",
      "2  P1TLH_AAACCTGTCTAAGCCA_1    P1TLH  AAACCTGTCTAAGCCA          12   \n",
      "3  P1TLH_AAACGGGAGTAGGCCA_1    P1TLH  AAACGGGAGTAGGCCA          10   \n",
      "4  P1TLH_AAACGGGGTTCGGGCT_1    P1TLH  AAACGGGGTTCGGGCT           2   \n",
      "\n",
      "                      cell type  \n",
      "1                Cholangiocytes  \n",
      "2          Central venous LSECs  \n",
      "3  Non-inflammatory Macrophages  \n",
      "4                    ab T cells  \n"
     ]
    }
   ],
   "source": [
    "pprint.pprint(bader_celltypes[1:5])"
   ]
  },
  {
   "cell_type": "markdown",
   "metadata": {},
   "source": [
    "The lab names the cells with a combination of the donor id and the cell barcode. Since there is only one cell suspension per specimen, and one specimen per donor we can use a combination of the `donor_organism.provenance.document_id` and `barcode`. \n",
    "\n",
    "Next I need to match between the user provided ids and the uuids in out system by using output from the script created by the ingest devs here: https://github.com/ebi-ait/hca-ebi-dev-team/tree/master/scripts/spreadsheet-id-mapper"
   ]
  },
  {
   "cell_type": "code",
   "execution_count": 32,
   "metadata": {},
   "outputs": [],
   "source": [
    "# Load the json output from the spreadsheet_id_mapper.py script\n",
    "with open(\"BaderLiverLandscapeMapping.json\") as bader_json:\n",
    "    loaded_json = json.load(bader_json)"
   ]
  },
  {
   "cell_type": "code",
   "execution_count": 37,
   "metadata": {
    "scrolled": true
   },
   "outputs": [
    {
     "name": "stdout",
     "output_type": "stream",
     "text": [
      "{'P1TLH': '893bb9d2-9d13-42ff-88ed-2fe40f499090',\n",
      " 'P2TLH': '1a9760c6-30ca-4d20-81af-72cc4ab7d07b',\n",
      " 'P3TLH': '85dafcd5-795a-46d0-a17e-0f982e9108ce',\n",
      " 'P4TLH': 'f69bb28a-df96-4725-9933-e86e63c4450c',\n",
      " 'P5TLH': '1505e6b0-e7a1-4436-ba79-5454f78198c8'}\n"
     ]
    }
   ],
   "source": [
    "# Create a donor dictionary with local ids as keys since that's all we want to match\n",
    "bader_donor_dict={v: k for k, v in loaded_json[\"donor_organism\"].items()}\n",
    "pprint.pprint(bader_donor_dict)"
   ]
  },
  {
   "cell_type": "code",
   "execution_count": 38,
   "metadata": {},
   "outputs": [],
   "source": [
    "# Add the uuids to the celltypes dataframe for easy creation of the celltype dict\n",
    "bader_celltypes[\"donor_uuid\"] = bader_celltypes['donor_id'].map(bader_donor_dict)"
   ]
  },
  {
   "cell_type": "code",
   "execution_count": 39,
   "metadata": {},
   "outputs": [
    {
     "name": "stdout",
     "output_type": "stream",
     "text": [
      "                    cell_id donor_id           barcode  cluster_id  \\\n",
      "1  P1TLH_AAACCTGTCCTCATTA_1    P1TLH  AAACCTGTCCTCATTA          17   \n",
      "2  P1TLH_AAACCTGTCTAAGCCA_1    P1TLH  AAACCTGTCTAAGCCA          12   \n",
      "3  P1TLH_AAACGGGAGTAGGCCA_1    P1TLH  AAACGGGAGTAGGCCA          10   \n",
      "4  P1TLH_AAACGGGGTTCGGGCT_1    P1TLH  AAACGGGGTTCGGGCT           2   \n",
      "\n",
      "                      cell type                            donor_uuid  \n",
      "1                Cholangiocytes  893bb9d2-9d13-42ff-88ed-2fe40f499090  \n",
      "2          Central venous LSECs  893bb9d2-9d13-42ff-88ed-2fe40f499090  \n",
      "3  Non-inflammatory Macrophages  893bb9d2-9d13-42ff-88ed-2fe40f499090  \n",
      "4                    ab T cells  893bb9d2-9d13-42ff-88ed-2fe40f499090  \n"
     ]
    }
   ],
   "source": [
    "pprint.pprint(bader_celltypes[1:5])"
   ]
  },
  {
   "cell_type": "code",
   "execution_count": 87,
   "metadata": {},
   "outputs": [],
   "source": [
    "# Create a celltype dict where the key is a tuple of (barcode, donor_uuid)\n",
    "celltype_dict={}\n",
    "for index, row in bader_celltypes.iterrows():\n",
    "    celltype_dict[(row['barcode'], row['donor_uuid'])] = row['cell type']"
   ]
  },
  {
   "cell_type": "code",
   "execution_count": 80,
   "metadata": {},
   "outputs": [],
   "source": [
    "# write a function that takes the cell barcode and donor uuid and returns the cell type\n",
    "# takes a tuple of the form (cell_barcode, donor_uuid)\n",
    "\n",
    "def get_cell_type(cell_barcode, donor_uuid, celltype_dict):\n",
    "    try:\n",
    "        cell_type=celltype_dict[(cell_barcode, donor_uuid)]\n",
    "    except KeyError:\n",
    "        cell_type=\"none\"\n",
    "    return(cell_type)\n",
    "    "
   ]
  },
  {
   "cell_type": "code",
   "execution_count": 81,
   "metadata": {},
   "outputs": [
    {
     "data": {
      "text/plain": [
       "'Cholangiocytes'"
      ]
     },
     "execution_count": 81,
     "metadata": {},
     "output_type": "execute_result"
    }
   ],
   "source": [
    "# Test function\n",
    "get_cell_type(cell_barcode_eg, donor_uuid_eg, celltype_dict)"
   ]
  },
  {
   "cell_type": "code",
   "execution_count": 83,
   "metadata": {},
   "outputs": [],
   "source": [
    "celltype_list = []\n",
    "with loompy.connect(bader_loom) as ds:\n",
    "    for i in range(ds.shape[1]):\n",
    "        celltype_list.append(get_cell_type(ds.ca[\"barcode\"][i], ds.ca[\"donor_organism.provenance.document_id\"][i], celltype_dict))\n",
    "    ds.ca[\"cell_type\"] = celltype_list\n",
    "    "
   ]
  },
  {
   "cell_type": "code",
   "execution_count": 86,
   "metadata": {},
   "outputs": [
    {
     "name": "stdout",
     "output_type": "stream",
     "text": [
      "['CellID',\n",
      " 'analysis_protocol.protocol_core.protocol_id',\n",
      " 'analysis_protocol.provenance.document_id',\n",
      " 'analysis_working_group_approval_status',\n",
      " 'barcode',\n",
      " 'bundle_uuid',\n",
      " 'bundle_version',\n",
      " 'cell_suspension.genus_species.ontology',\n",
      " 'cell_suspension.genus_species.ontology_label',\n",
      " 'cell_suspension.provenance.document_id',\n",
      " 'cell_type',\n",
      " 'derived_organ_label',\n",
      " 'derived_organ_ontology',\n",
      " 'derived_organ_parts_label',\n",
      " 'derived_organ_parts_ontology',\n",
      " 'donor_organism.development_stage.ontology',\n",
      " 'donor_organism.development_stage.ontology_label',\n",
      " 'donor_organism.diseases.ontology',\n",
      " 'donor_organism.diseases.ontology_label',\n",
      " 'donor_organism.human_specific.ethnicity.ontology',\n",
      " 'donor_organism.human_specific.ethnicity.ontology_label',\n",
      " 'donor_organism.is_living',\n",
      " 'donor_organism.provenance.document_id',\n",
      " 'donor_organism.sex',\n",
      " 'dss_bundle_fqid',\n",
      " 'emptydrops_is_cell',\n",
      " 'file_uuid',\n",
      " 'file_version',\n",
      " 'genes_detected',\n",
      " 'library_preparation_protocol.end_bias',\n",
      " 'library_preparation_protocol.input_nucleic_acid_molecule.ontology',\n",
      " 'library_preparation_protocol.input_nucleic_acid_molecule.ontology_label',\n",
      " 'library_preparation_protocol.library_construction_method.ontology',\n",
      " 'library_preparation_protocol.library_construction_method.ontology_label',\n",
      " 'library_preparation_protocol.provenance.document_id',\n",
      " 'library_preparation_protocol.strand',\n",
      " 'project.project_core.project_short_name',\n",
      " 'project.project_core.project_title',\n",
      " 'project.provenance.document_id',\n",
      " 'specimen_from_organism.organ.ontology',\n",
      " 'specimen_from_organism.organ.ontology_label',\n",
      " 'specimen_from_organism.organ_parts.ontology',\n",
      " 'specimen_from_organism.organ_parts.ontology_label',\n",
      " 'specimen_from_organism.provenance.document_id',\n",
      " 'total_umis']\n",
      "Counter({'none': 291042,\n",
      "         'Hepatocytes': 3501,\n",
      "         'ab T cells': 961,\n",
      "         'Inflammatory Macrophages': 813,\n",
      "         'gd T cells': 569,\n",
      "         'Plasma cells': 511,\n",
      "         'NK-like cells': 488,\n",
      "         'Non-inflammatory Macrophages': 379,\n",
      "         'Periportal LSECs': 327,\n",
      "         'Central venous LSECs': 306,\n",
      "         'Portal LSECs': 211,\n",
      "         'Mature B cells': 129,\n",
      "         'Cholangiocytes': 119,\n",
      "         'Erythroid cells': 93,\n",
      "         'Hepatic Stellate Cells': 37})\n"
     ]
    }
   ],
   "source": [
    "# Check that the cell type was added\n",
    "with loompy.connect(bader_loom) as ds:\n",
    "    pprint.pprint(ds.ca.keys())\n",
    "    pprint.pprint(Counter(ds.ca[\"cell_type\"]))\n",
    "    for i in range(0:20):\n",
    "        print(ds.ca[\"cell_type\"] + \" \" + ds.ca[\"donor_organism.provenance.document_id\" + \" \" + ])\n",
    "    "
   ]
  },
  {
   "cell_type": "markdown",
   "metadata": {},
   "source": [
    "## Conclusion\n",
    "Note that many cells are not annotated most likely due to a large amount of filtering before cell types are assigned.\n",
    "\n",
    "To do next would be writing a more automated script to do this but this might be difficult as each dataset may have different ways of identifying particular cells."
   ]
  }
 ],
 "metadata": {
  "kernelspec": {
   "display_name": "Python 3",
   "language": "python",
   "name": "python3"
  },
  "language_info": {
   "codemirror_mode": {
    "name": "ipython",
    "version": 3
   },
   "file_extension": ".py",
   "mimetype": "text/x-python",
   "name": "python",
   "nbconvert_exporter": "python",
   "pygments_lexer": "ipython3",
   "version": "3.7.4"
  },
  "toc": {
   "base_numbering": 1,
   "nav_menu": {},
   "number_sections": true,
   "sideBar": true,
   "skip_h1_title": false,
   "title_cell": "Table of Contents",
   "title_sidebar": "Contents",
   "toc_cell": false,
   "toc_position": {},
   "toc_section_display": true,
   "toc_window_display": false
  },
  "varInspector": {
   "cols": {
    "lenName": 16,
    "lenType": 16,
    "lenVar": 40
   },
   "kernels_config": {
    "python": {
     "delete_cmd_postfix": "",
     "delete_cmd_prefix": "del ",
     "library": "var_list.py",
     "varRefreshCmd": "print(var_dic_list())"
    },
    "r": {
     "delete_cmd_postfix": ") ",
     "delete_cmd_prefix": "rm(",
     "library": "var_list.r",
     "varRefreshCmd": "cat(var_dic_list()) "
    }
   },
   "oldHeight": 347,
   "position": {
    "height": "40px",
    "left": "955px",
    "right": "20px",
    "top": "120px",
    "width": "347px"
   },
   "types_to_exclude": [
    "module",
    "function",
    "builtin_function_or_method",
    "instance",
    "_Feature"
   ],
   "varInspector_section_display": "none",
   "window_display": true
  }
 },
 "nbformat": 4,
 "nbformat_minor": 4
}
