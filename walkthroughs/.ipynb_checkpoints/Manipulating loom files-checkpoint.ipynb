{
 "cells": [
  {
   "cell_type": "markdown",
   "metadata": {},
   "source": [
    "# Manipulating loom files with loompy"
   ]
  },
  {
   "cell_type": "code",
   "execution_count": null,
   "metadata": {},
   "outputs": [],
   "source": [
    "import loompy\n",
    "import pprint\n",
    "import numpy as np"
   ]
  },
  {
   "cell_type": "code",
   "execution_count": 24,
   "metadata": {},
   "outputs": [],
   "source": [
    "working_dir=\"/Users/mshadbolt/Documents/wrangling_work/loom_file_update_test/loom_work/\""
   ]
  },
  {
   "cell_type": "code",
   "execution_count": null,
   "metadata": {},
   "outputs": [],
   "source": [
    "loom_path=working_dir + \"Fetal_Maternal Interface homo_sapiens 2019-11-08 16.16.loom\""
   ]
  },
  {
   "cell_type": "markdown",
   "metadata": {},
   "source": [
    "View the dimensions of the loom file"
   ]
  },
  {
   "cell_type": "code",
   "execution_count": 9,
   "metadata": {},
   "outputs": [
    {
     "name": "stdout",
     "output_type": "stream",
     "text": [
      "(58347, 546183)\n"
     ]
    }
   ],
   "source": [
    "with loompy.connect(loom_path) as ds:\n",
    "    print(ds.shape)"
   ]
  },
  {
   "cell_type": "markdown",
   "metadata": {},
   "source": [
    "Print all the available column attributes in the loom"
   ]
  },
  {
   "cell_type": "code",
   "execution_count": 16,
   "metadata": {},
   "outputs": [
    {
     "name": "stdout",
     "output_type": "stream",
     "text": [
      "['CellID',\n",
      " 'analysis_protocol.protocol_core.protocol_id',\n",
      " 'analysis_protocol.provenance.document_id',\n",
      " 'analysis_working_group_approval_status',\n",
      " 'barcode',\n",
      " 'bundle_uuid',\n",
      " 'bundle_version',\n",
      " 'cell_suspension.genus_species.ontology',\n",
      " 'cell_suspension.genus_species.ontology_label',\n",
      " 'cell_suspension.provenance.document_id',\n",
      " 'derived_organ_label',\n",
      " 'derived_organ_ontology',\n",
      " 'derived_organ_parts_label',\n",
      " 'derived_organ_parts_ontology',\n",
      " 'donor_organism.development_stage.ontology',\n",
      " 'donor_organism.development_stage.ontology_label',\n",
      " 'donor_organism.diseases.ontology',\n",
      " 'donor_organism.diseases.ontology_label',\n",
      " 'donor_organism.human_specific.ethnicity.ontology',\n",
      " 'donor_organism.human_specific.ethnicity.ontology_label',\n",
      " 'donor_organism.is_living',\n",
      " 'donor_organism.provenance.document_id',\n",
      " 'donor_organism.sex',\n",
      " 'dss_bundle_fqid',\n",
      " 'emptydrops_is_cell',\n",
      " 'file_uuid',\n",
      " 'file_version',\n",
      " 'genes_detected',\n",
      " 'library_preparation_protocol.end_bias',\n",
      " 'library_preparation_protocol.input_nucleic_acid_molecule.ontology',\n",
      " 'library_preparation_protocol.input_nucleic_acid_molecule.ontology_label',\n",
      " 'library_preparation_protocol.library_construction_method.ontology',\n",
      " 'library_preparation_protocol.library_construction_method.ontology_label',\n",
      " 'library_preparation_protocol.provenance.document_id',\n",
      " 'library_preparation_protocol.strand',\n",
      " 'project.project_core.project_short_name',\n",
      " 'project.project_core.project_title',\n",
      " 'project.provenance.document_id',\n",
      " 'specimen_from_organism.organ.ontology',\n",
      " 'specimen_from_organism.organ.ontology_label',\n",
      " 'specimen_from_organism.organ_parts.ontology',\n",
      " 'specimen_from_organism.organ_parts.ontology_label',\n",
      " 'specimen_from_organism.provenance.document_id',\n",
      " 'total_umis']\n"
     ]
    }
   ],
   "source": [
    "with loompy.connect(loom_path) as ds:\n",
    "    pprint.pprint(ds.ca.keys())"
   ]
  },
  {
   "cell_type": "markdown",
   "metadata": {},
   "source": [
    "## Filter an HCA loom file by organ label"
   ]
  },
  {
   "cell_type": "markdown",
   "metadata": {},
   "source": [
    "First we need to get the column indices for the organ of interest. In this case we want all the columns with the `derived_organ_label` \"blood\""
   ]
  },
  {
   "cell_type": "code",
   "execution_count": 19,
   "metadata": {},
   "outputs": [
    {
     "name": "stdout",
     "output_type": "stream",
     "text": [
      "array(['decidua', 'decidua', 'decidua', ..., 'placenta', 'decidua',\n",
      "       'decidua'], dtype=object)\n"
     ]
    }
   ],
   "source": [
    "with loompy.connect(loom_path) as ds:\n",
    "    pprint.pprint(ds.ca[\"derived_organ_label\"])\n",
    "    blood_indices = [i for i, x in enumerate(ds.ca[\"derived_organ_label\"]) if x == \"blood\"]\n"
   ]
  },
  {
   "cell_type": "markdown",
   "metadata": {},
   "source": [
    "We need to convert the array of indices into a numpy array to be able to use it with the `loompy.scan` function"
   ]
  },
  {
   "cell_type": "code",
   "execution_count": 33,
   "metadata": {},
   "outputs": [
    {
     "name": "stdout",
     "output_type": "stream",
     "text": [
      "array([16, 50, 59, 61, 72])\n"
     ]
    }
   ],
   "source": [
    "blood_indices = np.array(blood_indices)"
   ]
  },
  {
   "cell_type": "markdown",
   "metadata": {},
   "source": [
    "Then we set the output file path where we want to save the new loom and print it out to check. Now we are ready to create our filtered loom."
   ]
  },
  {
   "cell_type": "code",
   "execution_count": 31,
   "metadata": {},
   "outputs": [
    {
     "name": "stdout",
     "output_type": "stream",
     "text": [
      "/Users/mshadbolt/Documents/wrangling_work/loom_file_update_test/loom_work/test_scan.loom\n"
     ]
    }
   ],
   "source": [
    "out_file=working_dir + \"test_scan.loom\"\n",
    "print(out_file)"
   ]
  },
  {
   "cell_type": "markdown",
   "metadata": {},
   "source": [
    "Below code scans through the loom file provided in `loom_path`, selects the columns based on the np.array of indices in `blood_indices` then outputs the filtered loom to the file specified in `out_file`. Scanning through the loom file chunk by chunk prevents out of memory errors.\n",
    "This may take a long time depending on the dimensions of the loom file.\n",
    "Adapted from : http://linnarssonlab.org/loompy/cookbook/index.html#combining-data-using-scan-and-new"
   ]
  },
  {
   "cell_type": "code",
   "execution_count": null,
   "metadata": {},
   "outputs": [],
   "source": [
    "with loompy.new(out_file) as dsout:  # Create a new, empty, loom file\n",
    "    with loompy.connect(loom_path) as ds:\n",
    "      for (ix, selection, view) in ds.scan(items=blood_indices, axis=1):\n",
    "        dsout.add_columns(view.layers, col_attrs=view.ca, row_attrs=view.ra)\n",
    "dsout.close()"
   ]
  },
  {
   "cell_type": "code",
   "execution_count": null,
   "metadata": {},
   "outputs": [],
   "source": []
  }
 ],
 "metadata": {
  "kernelspec": {
   "display_name": "Python 3",
   "language": "python",
   "name": "python3"
  },
  "language_info": {
   "codemirror_mode": {
    "name": "ipython",
    "version": 3
   },
   "file_extension": ".py",
   "mimetype": "text/x-python",
   "name": "python",
   "nbconvert_exporter": "python",
   "pygments_lexer": "ipython3",
   "version": "3.7.4"
  },
  "toc": {
   "base_numbering": 1,
   "nav_menu": {},
   "number_sections": true,
   "sideBar": true,
   "skip_h1_title": false,
   "title_cell": "Table of Contents",
   "title_sidebar": "Contents",
   "toc_cell": false,
   "toc_position": {},
   "toc_section_display": true,
   "toc_window_display": false
  },
  "varInspector": {
   "cols": {
    "lenName": 16,
    "lenType": 16,
    "lenVar": 40
   },
   "kernels_config": {
    "python": {
     "delete_cmd_postfix": "",
     "delete_cmd_prefix": "del ",
     "library": "var_list.py",
     "varRefreshCmd": "print(var_dic_list())"
    },
    "r": {
     "delete_cmd_postfix": ") ",
     "delete_cmd_prefix": "rm(",
     "library": "var_list.r",
     "varRefreshCmd": "cat(var_dic_list()) "
    }
   },
   "oldHeight": 238,
   "position": {
    "height": "260px",
    "left": "702px",
    "right": "20px",
    "top": "111px",
    "width": "321px"
   },
   "types_to_exclude": [
    "module",
    "function",
    "builtin_function_or_method",
    "instance",
    "_Feature"
   ],
   "varInspector_section_display": "block",
   "window_display": true
  }
 },
 "nbformat": 4,
 "nbformat_minor": 4
}
